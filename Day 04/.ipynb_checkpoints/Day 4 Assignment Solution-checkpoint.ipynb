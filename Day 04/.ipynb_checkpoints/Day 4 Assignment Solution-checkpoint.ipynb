{
 "cells": [
  {
   "cell_type": "markdown",
   "metadata": {},
   "source": [
    "### 1. Python program to demonstrate addition, subtraction, multiplication, division, floor division and modulo operation. "
   ]
  },
  {
   "cell_type": "code",
   "execution_count": 1,
   "metadata": {},
   "outputs": [
    {
     "name": "stdout",
     "output_type": "stream",
     "text": [
      "Enter the first complex number: 6+9j\n",
      "Enter the second complex number: 4+1j\n"
     ]
    }
   ],
   "source": [
    "num1 = complex(input(\"Enter the first complex number: \"))\n",
    "num2 = complex(input(\"Enter the second complex number: \"))"
   ]
  },
  {
   "cell_type": "code",
   "execution_count": 2,
   "metadata": {},
   "outputs": [
    {
     "name": "stdout",
     "output_type": "stream",
     "text": [
      "Addition of (6+9j) and (4+1j) is (10+10j)\n"
     ]
    }
   ],
   "source": [
    "#addition\n",
    "add = num1 + num2\n",
    "print(f\"Addition of {num1} and {num2} is {add}\")"
   ]
  },
  {
   "cell_type": "code",
   "execution_count": 3,
   "metadata": {},
   "outputs": [
    {
     "name": "stdout",
     "output_type": "stream",
     "text": [
      "Subtraction of (6+9j) and (4+1j) is (2+8j)\n"
     ]
    }
   ],
   "source": [
    "#subtraction\n",
    "sub = num1 - num2\n",
    "print(f\"Subtraction of {num1} and {num2} is {sub}\")"
   ]
  },
  {
   "cell_type": "code",
   "execution_count": 4,
   "metadata": {},
   "outputs": [
    {
     "name": "stdout",
     "output_type": "stream",
     "text": [
      "Multiplication of (6+9j) and (4+1j) is (15+42j)\n"
     ]
    }
   ],
   "source": [
    "#mulitplication\n",
    "mul = num1 * num2\n",
    "print(f\"Multiplication of {num1} and {num2} is {mul}\")"
   ]
  },
  {
   "cell_type": "code",
   "execution_count": 5,
   "metadata": {},
   "outputs": [
    {
     "name": "stdout",
     "output_type": "stream",
     "text": [
      "Division of (6+9j) and (4+1j) is (1.9411764705882353+1.7647058823529411j)\n"
     ]
    }
   ],
   "source": [
    "#division\n",
    "div = num1 / num2\n",
    "print(f\"Division of {num1} and {num2} is {div}\")"
   ]
  },
  {
   "cell_type": "code",
   "execution_count": 6,
   "metadata": {},
   "outputs": [
    {
     "name": "stdout",
     "output_type": "stream",
     "text": [
      "Floor Division of (6+9j) and (4+1j) is 2.0\n"
     ]
    }
   ],
   "source": [
    "#floor division\n",
    "#We can't directly use floor division operator to find floor division between two\n",
    "#complex numbers, so we have to use abs() function\n",
    "floor_div = abs(num1) // abs(num2)\n",
    "print(f\"Floor Division of {num1} and {num2} is {floor_div}\")"
   ]
  },
  {
   "cell_type": "code",
   "execution_count": 7,
   "metadata": {},
   "outputs": [
    {
     "name": "stdout",
     "output_type": "stream",
     "text": [
      "Modulus of (6+9j) and (4+1j) is 2.5704425751566475\n"
     ]
    }
   ],
   "source": [
    "#modulo\n",
    "#We can't directly use modulo operator to find mod between two\n",
    "#complex numbers, so we have to use abs() function\n",
    "mod = abs(num1) % abs(num2)\n",
    "print(f\"Modulus of {num1} and {num2} is {mod}\")"
   ]
  },
  {
   "cell_type": "markdown",
   "metadata": {},
   "source": [
    "### 2. Range() function"
   ]
  },
  {
   "cell_type": "markdown",
   "metadata": {},
   "source": [
    "- range() function in python is used to get particular sequence of numbers.\n",
    "- range() function has 3 parameters:\n",
    "    \n",
    "    1. start: \n",
    "        - By default it is set to 0. We can give any int value to this parameter.\n",
    "        - It is the value from which the sequence starts.   \n",
    "    \n",
    "    2. stop:\n",
    "        - This is the value at which the sequence stops. \n",
    "        - This parameter doesn't have default value so we have to compulsory give some value to it.\n",
    "        \n",
    "    3. step:\n",
    "        - This is the value is incremented. By default it has set to 1.\n",
    "        - We can give it any int value it may be negative or positive.\n",
    "        \n",
    "- Sequence of this paramters is as follows: \n",
    "     - range(start, stop, step) \n",
    "     - e.g range(6) - This will generate numbers like 0,1,2,3,4,5\n",
    "     - Generally this function is used with for loop."
   ]
  },
  {
   "cell_type": "markdown",
   "metadata": {},
   "source": [
    "### Program to demonstrate use of range function"
   ]
  },
  {
   "cell_type": "code",
   "execution_count": 8,
   "metadata": {},
   "outputs": [
    {
     "name": "stdout",
     "output_type": "stream",
     "text": [
      "1\n",
      "3\n",
      "5\n",
      "7\n",
      "9\n"
     ]
    }
   ],
   "source": [
    "#Here range(1,10,2) will generate 1,3,5,7,9 as start = 1 so it will start with 1\n",
    "#then stop = 10 so it will stop when it becomes 10 and then step = 2 so the value is \n",
    "#incremented by 2. \n",
    "\n",
    "for i in range(1,10,2):\n",
    "    print(i)"
   ]
  },
  {
   "cell_type": "markdown",
   "metadata": {},
   "source": [
    "### 3. Perform their subtraction and if the result of subtraction is greater than 25, print their multiplication result else print their division result.\n"
   ]
  },
  {
   "cell_type": "code",
   "execution_count": 9,
   "metadata": {},
   "outputs": [
    {
     "name": "stdout",
     "output_type": "stream",
     "text": [
      "Enter the number1: 50\n",
      "Enter the number2: 12\n",
      "Multiplication of 50 and 12 is 600\n"
     ]
    }
   ],
   "source": [
    "num1 = int(input('Enter the number1: '))\n",
    "num2 = int(input(\"Enter the number2: \"))\n",
    "\n",
    "sub = num1 - num2\n",
    "\n",
    "if(sub>25):\n",
    "    mul = num1 * num2\n",
    "    print(f\"Multiplication of {num1} and {num2} is {mul}\")\n",
    "else:\n",
    "    print(f\"Subtraction of {num1} and {num2} is {sub}\")"
   ]
  },
  {
   "cell_type": "markdown",
   "metadata": {},
   "source": [
    "### 4. If the number in the list is divisible by 2, print the result as \"square of that number minus 2\"."
   ]
  },
  {
   "cell_type": "code",
   "execution_count": 10,
   "metadata": {},
   "outputs": [
    {
     "name": "stdout",
     "output_type": "stream",
     "text": [
      "List is [1, 2, 3, 4, 5, 6, 7, 8, 9, 10]\n",
      "\n",
      "2\n",
      "14\n",
      "34\n",
      "62\n",
      "98\n"
     ]
    }
   ],
   "source": [
    "ls = list(range(1,11))\n",
    "print(f\"List is {ls}\\n\")\n",
    "for i in ls:\n",
    "    if i%2 == 0:\n",
    "        print((i**2)-2)"
   ]
  },
  {
   "cell_type": "markdown",
   "metadata": {},
   "source": [
    "### 5.  Print all the elements in the list which are greater than 7 when that number is divided 2."
   ]
  },
  {
   "cell_type": "code",
   "execution_count": 11,
   "metadata": {},
   "outputs": [
    {
     "name": "stdout",
     "output_type": "stream",
     "text": [
      "List is [10, 11, 12, 13, 14, 15, 16, 17, 18, 19, 20]\n",
      "\n",
      "15\n",
      "16\n",
      "17\n",
      "18\n",
      "19\n",
      "20\n"
     ]
    }
   ],
   "source": [
    "ls = list(range(10,21))\n",
    "print(f\"List is {ls}\\n\")\n",
    "for i in ls:\n",
    "    if i/2 > 7:\n",
    "        print(i)"
   ]
  }
 ],
 "metadata": {
  "kernelspec": {
   "display_name": "Python 3",
   "language": "python",
   "name": "python3"
  },
  "language_info": {
   "codemirror_mode": {
    "name": "ipython",
    "version": 3
   },
   "file_extension": ".py",
   "mimetype": "text/x-python",
   "name": "python",
   "nbconvert_exporter": "python",
   "pygments_lexer": "ipython3",
   "version": "3.7.6"
  },
  "toc": {
   "base_numbering": 1,
   "nav_menu": {},
   "number_sections": false,
   "sideBar": true,
   "skip_h1_title": false,
   "title_cell": "Table of Contents",
   "title_sidebar": "Contents",
   "toc_cell": false,
   "toc_position": {},
   "toc_section_display": true,
   "toc_window_display": false
  }
 },
 "nbformat": 4,
 "nbformat_minor": 4
}
