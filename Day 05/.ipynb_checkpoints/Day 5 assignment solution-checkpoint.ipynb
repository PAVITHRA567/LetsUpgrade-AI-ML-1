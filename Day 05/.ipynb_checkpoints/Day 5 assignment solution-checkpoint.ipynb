{
 "cells": [
  {
   "cell_type": "markdown",
   "metadata": {},
   "source": [
    "### 1. Write a Python program to find the first 20 non-even prime natural numbers."
   ]
  },
  {
   "cell_type": "code",
   "execution_count": 1,
   "metadata": {},
   "outputs": [
    {
     "name": "stdout",
     "output_type": "stream",
     "text": [
      "First 20 odd prime numbers:  [3, 5, 7, 11, 13, 17, 19, 23, 29, 31, 37, 41, 43, 47, 53, 59, 61, 67, 71, 73]\n"
     ]
    }
   ],
   "source": [
    "ls = []\n",
    "ls1 = []\n",
    "n = 0\n",
    "for i in range(1,100,2):\n",
    "    if n<20:\n",
    "        for j in range(i, 0, -1):\n",
    "            if i%j==0:\n",
    "                ls.append(j)\n",
    "        if len(ls) == 2:\n",
    "            ls1.append(i)\n",
    "            n+=1\n",
    "    ls.clear()\n",
    "\n",
    "print(\"First 20 odd prime numbers: \",ls1)"
   ]
  },
  {
   "cell_type": "markdown",
   "metadata": {},
   "source": [
    "### 2. Write a Python program to implement 15 functions of string."
   ]
  },
  {
   "cell_type": "code",
   "execution_count": 2,
   "metadata": {},
   "outputs": [
    {
     "name": "stdout",
     "output_type": "stream",
     "text": [
      "Output of 'st.capitalize()' is Hindi90\n",
      "Output of 'st.count('i')' is 2\n",
      "Ouput of 'st.find()' is 3\n",
      "Ouput of 'st.isalnum()' is True\n",
      "Output of 'st.isalpha()' is False\n",
      "Output of 'st.isdigit()' is False\n",
      "Output of 'st.islower()' is True\n",
      "Output of 'st.isupper()' is False\n",
      "Output of 'st.swapcase()' is HINDI90\n",
      "Output of 'st.lower()' is hindi90\n",
      "Output of 'st.upper()' is HINDI90\n",
      "Output of 'st.title()' is Hindi90\n",
      "Output of 'st.isspace()' is False\n",
      "Output of 'st.replace('i', 'p')' is hpndp90\n",
      "Output of 'st.istitle()' is False\n"
     ]
    }
   ],
   "source": [
    "st = 'hindi90'\n",
    "\n",
    "#capitalize() - This capitalize first character of string\n",
    "print(f\"Output of 'st.capitalize()' is {st.capitalize()}\")\n",
    "\n",
    "#count() - Returns the number of times character repeated in string\n",
    "print(f\"Output of 'st.count('i')' is {st.count('i')}\")\n",
    "      \n",
    "#find() - Used to find the index of particular character\n",
    "print(f\"Ouput of 'st.find()' is {st.find('d')}\")\n",
    "\n",
    "#isalnum() - checks whether all the characters are alphanumeric or not and there should be at least one character\n",
    "print(f\"Ouput of 'st.isalnum()' is {st.isalnum()}\")\n",
    "\n",
    "#isalpha() - checks whether all the characters are alphabetic or not and there should be at least one character\n",
    "print(f\"Output of 'st.isalpha()' is {st.isalpha()}\")\n",
    "\n",
    "#isdigit() - checks whether all the characters are numeric or not and there should be at least one character\n",
    "print(f\"Output of 'st.isdigit()' is {st.isdigit()}\")\n",
    "\n",
    "#islower() - checks whether all the characters are lower or not and there should be at least one character\n",
    "print(f\"Output of 'st.islower()' is {st.islower()}\")\n",
    "\n",
    "#isupper() - checks whether all the characters are upper or not and there shoudd be at least one character\n",
    "print(f\"Output of 'st.isupper()' is {st.isupper()}\")\n",
    "\n",
    "#swapcase() - swaps the case of character\n",
    "print(f\"Output of 'st.swapcase()' is {st.swapcase()}\")\n",
    "\n",
    "#lower() - converts uppercase into lower\n",
    "print(f\"Output of 'st.lower()' is {st.lower()}\")\n",
    "\n",
    "#upper() - converts lower case into upper\n",
    "print(f\"Output of 'st.upper()' is {st.upper()}\")\n",
    "\n",
    "#title() - converts all starting character with uppercase and rest with lowercase\n",
    "print(f\"Output of 'st.title()' is {st.title()}\")\n",
    "\n",
    "#isspace - checks that whether all the characters are whitespaces and atleast one character\n",
    "print(f\"Output of 'st.isspace()' is {st.isspace()}\")\n",
    "\n",
    "#replace() - replaces the given character with other given character\n",
    "print(f\"Output of 'st.replace('i', 'p')' is {st.replace('i','p')}\")\n",
    "\n",
    "#istitle() - checks whether all the characters are in titlecase and atleast one character\n",
    "print(f\"Output of 'st.istitle()' is {st.istitle()}\")"
   ]
  },
  {
   "cell_type": "markdown",
   "metadata": {},
   "source": [
    "### 3. Write a Python program to check if the given string is a Palindrome or Anagram or None of them. Display the message accordingly to the user.\n"
   ]
  },
  {
   "cell_type": "code",
   "execution_count": 3,
   "metadata": {},
   "outputs": [
    {
     "name": "stdout",
     "output_type": "stream",
     "text": [
      "Enter the first string: Vraj\n",
      "Enter the second string: jarV\n",
      "Vraj and jarV are palindrome\n"
     ]
    }
   ],
   "source": [
    "st = input(\"Enter the first string: \")\n",
    "st1 = input(\"Enter the second string: \")\n",
    "\n",
    "if st == st1[::-1]:\n",
    "    print(f\"{st} and {st1} are palindrome\")\n",
    "\n",
    "elif sorted(st) == sorted(st1):\n",
    "    print(f\"{st} and {st1} are Anagram\")\n",
    "    \n",
    "else:\n",
    "    print(f\"{st} and {st1} are neither palindrome nor anagram\")"
   ]
  },
  {
   "cell_type": "markdown",
   "metadata": {},
   "source": [
    "### 4. Write a Python's user defined function that removes all the additional characters from the string and converts it finally to lower case using built-in lower()"
   ]
  },
  {
   "cell_type": "code",
   "execution_count": 4,
   "metadata": {},
   "outputs": [
    {
     "name": "stdout",
     "output_type": "stream",
     "text": [
      "Enter the string: Dr. Darshan Ingle @AI-ML Trainer\n",
      "drdarshaningleaimltrainer\n"
     ]
    }
   ],
   "source": [
    "def string_convert(st):\n",
    "    for i in st:\n",
    "        if not(ord(i)>=65 and ord(i)<=90 or ord(i)>=97 and ord(i)<=122 or ord(i)==64):\n",
    "            st = st.replace(i,\"\")\n",
    "        elif ord(i) == 64:\n",
    "            st = st.replace(i,\" \")\n",
    "    return st.lower()\n",
    "\n",
    "st = input(\"Enter the string: \")\n",
    "print(string_convert(st))"
   ]
  },
  {
   "cell_type": "code",
   "execution_count": null,
   "metadata": {},
   "outputs": [],
   "source": []
  }
 ],
 "metadata": {
  "kernelspec": {
   "display_name": "Python 3",
   "language": "python",
   "name": "python3"
  },
  "language_info": {
   "codemirror_mode": {
    "name": "ipython",
    "version": 3
   },
   "file_extension": ".py",
   "mimetype": "text/x-python",
   "name": "python",
   "nbconvert_exporter": "python",
   "pygments_lexer": "ipython3",
   "version": "3.7.6"
  },
  "toc": {
   "base_numbering": 1,
   "nav_menu": {},
   "number_sections": false,
   "sideBar": true,
   "skip_h1_title": false,
   "title_cell": "Table of Contents",
   "title_sidebar": "Contents",
   "toc_cell": false,
   "toc_position": {},
   "toc_section_display": true,
   "toc_window_display": false
  }
 },
 "nbformat": 4,
 "nbformat_minor": 4
}
