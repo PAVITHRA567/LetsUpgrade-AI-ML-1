{
 "cells": [
  {
   "cell_type": "markdown",
   "metadata": {},
   "source": [
    "### 1. Write a program to subtract two complex numbers in Python."
   ]
  },
  {
   "cell_type": "code",
   "execution_count": 1,
   "metadata": {},
   "outputs": [
    {
     "name": "stdout",
     "output_type": "stream",
     "text": [
      "Enter the first complex number: 8+9j\n",
      "Enter the second complex number: 4+5j\n",
      "Subraction of (8+9j) and (4+5j) is (4+4j)\n"
     ]
    }
   ],
   "source": [
    "num1 = complex(input(\"Enter the first complex number: \"))\n",
    "num2 = complex(input(\"Enter the second complex number: \"))\n",
    "\n",
    "sub = num1 - num2\n",
    "print(f\"Subraction of {num1} and {num2} is {sub}\")"
   ]
  },
  {
   "cell_type": "markdown",
   "metadata": {},
   "source": [
    "### 2. Write a program to find the fourth root of a number."
   ]
  },
  {
   "cell_type": "code",
   "execution_count": 2,
   "metadata": {},
   "outputs": [
    {
     "name": "stdout",
     "output_type": "stream",
     "text": [
      "Enter the number: 78\n",
      "Fourth root of 78 is 2.97\n"
     ]
    }
   ],
   "source": [
    "num = int(input(\"Enter the number: \"))\n",
    "\n",
    "fourth_rt = num**(1/4)\n",
    "\n",
    "print(f\"Fourth root of {num} is {round(fourth_rt, 2)}\")"
   ]
  },
  {
   "cell_type": "markdown",
   "metadata": {},
   "source": [
    "### 3. Write a program to swap two numbers in Python with the help of a temporary variable"
   ]
  },
  {
   "cell_type": "code",
   "execution_count": 3,
   "metadata": {},
   "outputs": [
    {
     "name": "stdout",
     "output_type": "stream",
     "text": [
      "Enter the first number: 10\n",
      "Enter the second number: 20\n",
      "Values before swapping is 10 and 20\n",
      "Values after swapping is 20 and 10\n"
     ]
    }
   ],
   "source": [
    "num1 = int(input(\"Enter the first number: \"))\n",
    "num2 = int(input(\"Enter the second number: \"))\n",
    "print(f\"Values before swapping is {num1} and {num2}\")\n",
    "\n",
    "temp = num1 #Swapping logic\n",
    "num1 = num2\n",
    "num2 = temp\n",
    "\n",
    "print(f\"Values after swapping is {num1} and {num2}\")"
   ]
  },
  {
   "cell_type": "markdown",
   "metadata": {},
   "source": [
    "### 4. Write a program to swap two numbers in Python without using a temporary variable."
   ]
  },
  {
   "cell_type": "code",
   "execution_count": 4,
   "metadata": {},
   "outputs": [
    {
     "name": "stdout",
     "output_type": "stream",
     "text": [
      "Enter the first number: 68\n",
      "Enter the second number: 91\n",
      "Values before swapping is 68 and 91\n",
      "Values after swapping is 91 and 68\n"
     ]
    }
   ],
   "source": [
    "num1 = int(input(\"Enter the first number: \"))\n",
    "num2 = int(input(\"Enter the second number: \"))\n",
    "print(f\"Values before swapping is {num1} and {num2}\")\n",
    "\n",
    "num1 = num1 + num2\n",
    "num2 = num1 - num2\n",
    "num1 = num1 - num2\n",
    "\n",
    "print(f\"Values after swapping is {num1} and {num2}\")"
   ]
  },
  {
   "cell_type": "markdown",
   "metadata": {},
   "source": [
    "### 5. Write a program to convert fahrenheit to kelvin and celsius both."
   ]
  },
  {
   "cell_type": "code",
   "execution_count": 5,
   "metadata": {},
   "outputs": [
    {
     "name": "stdout",
     "output_type": "stream",
     "text": [
      "Enter the temperature in fahrenheit: 102\n",
      "102° Fahrenheit is 312.04° Kelvin and 38.89° Celsius\n"
     ]
    }
   ],
   "source": [
    "fahrenheit = int(input(\"Enter the temperature in fahrenheit: \"))\n",
    "\n",
    "degree_sign= u'\\N{DEGREE SIGN}'\n",
    "\n",
    "celsius = (fahrenheit - 32)*(5/9)\n",
    "\n",
    "kelvin = celsius + 273.15\n",
    "\n",
    "print(f\"{fahrenheit}{degree_sign} Fahrenheit is {round(kelvin, 2)}{degree_sign} Kelvin\" \n",
    "      f\" and {round(celsius, 2)}{degree_sign} Celsius\")"
   ]
  },
  {
   "cell_type": "markdown",
   "metadata": {},
   "source": [
    "### 6. Write a program to demonstrate all the available data types in Python. Hint: Use type() function."
   ]
  },
  {
   "cell_type": "code",
   "execution_count": 6,
   "metadata": {},
   "outputs": [
    {
     "name": "stdout",
     "output_type": "stream",
     "text": [
      "Vraj Desai is of <class 'str'>\n"
     ]
    }
   ],
   "source": [
    "string = 'Vraj Desai'\n",
    "print(f\"{string} is of {type(string)}\")"
   ]
  },
  {
   "cell_type": "code",
   "execution_count": 7,
   "metadata": {},
   "outputs": [
    {
     "name": "stdout",
     "output_type": "stream",
     "text": [
      "100 is of <class 'int'>\n"
     ]
    }
   ],
   "source": [
    "integer = 100\n",
    "print(f\"100 is of {type(integer)}\")"
   ]
  },
  {
   "cell_type": "code",
   "execution_count": 8,
   "metadata": {},
   "outputs": [
    {
     "name": "stdout",
     "output_type": "stream",
     "text": [
      "100.25 is of <class 'float'>\n"
     ]
    }
   ],
   "source": [
    "float_num = 100.25\n",
    "print(f\"100.25 is of {type(float_num)}\")"
   ]
  },
  {
   "cell_type": "code",
   "execution_count": 9,
   "metadata": {},
   "outputs": [
    {
     "name": "stdout",
     "output_type": "stream",
     "text": [
      "5+9j is of <class 'complex'>\n"
     ]
    }
   ],
   "source": [
    "complex_num = 5+9j\n",
    "print(f\"5+9j is of {type(complex_num)}\")"
   ]
  },
  {
   "cell_type": "code",
   "execution_count": 10,
   "metadata": {},
   "outputs": [
    {
     "name": "stdout",
     "output_type": "stream",
     "text": [
      "[2, 3, 'Vraj'] is of <class 'list'>\n"
     ]
    }
   ],
   "source": [
    "lst = [2,3,'Vraj']\n",
    "print(f\"{lst} is of {type(lst)}\")"
   ]
  },
  {
   "cell_type": "code",
   "execution_count": 11,
   "metadata": {},
   "outputs": [
    {
     "name": "stdout",
     "output_type": "stream",
     "text": [
      "{'Hello', 45} is of <class 'set'>\n"
     ]
    }
   ],
   "source": [
    "st = {45,'Hello'}\n",
    "print(f\"{st} is of {type(st)}\")"
   ]
  },
  {
   "cell_type": "code",
   "execution_count": 12,
   "metadata": {},
   "outputs": [
    {
     "name": "stdout",
     "output_type": "stream",
     "text": [
      "{1: 'Vraj', 2: 'Desai'} is of <class 'dict'>\n"
     ]
    }
   ],
   "source": [
    "diction = {1:'Vraj',2:'Desai'}\n",
    "print(f\"{diction} is of {type(diction)}\")"
   ]
  },
  {
   "cell_type": "code",
   "execution_count": 13,
   "metadata": {},
   "outputs": [
    {
     "name": "stdout",
     "output_type": "stream",
     "text": [
      "range(0, 6) is of <class 'range'>\n"
     ]
    }
   ],
   "source": [
    "rg = range(6)\n",
    "print(f\"{rg} is of {type(rg)}\")"
   ]
  },
  {
   "cell_type": "code",
   "execution_count": 14,
   "metadata": {},
   "outputs": [
    {
     "name": "stdout",
     "output_type": "stream",
     "text": [
      "frozenset({1, 2, 3}) is of <class 'frozenset'>\n"
     ]
    }
   ],
   "source": [
    "fset = frozenset({1,2,3})\n",
    "print(f\"{fset} is of {type(fset)}\")"
   ]
  },
  {
   "cell_type": "code",
   "execution_count": 15,
   "metadata": {},
   "outputs": [
    {
     "name": "stdout",
     "output_type": "stream",
     "text": [
      "True is of <class 'bool'>\n"
     ]
    }
   ],
   "source": [
    "boolean = True\n",
    "print(f\"{boolean} is of {type(boolean)}\")"
   ]
  },
  {
   "cell_type": "code",
   "execution_count": 16,
   "metadata": {},
   "outputs": [
    {
     "name": "stdout",
     "output_type": "stream",
     "text": [
      "b'Vraj' is of <class 'bytes'>\n"
     ]
    }
   ],
   "source": [
    "by = b'Vraj'\n",
    "print(f\"{by} is of {type(by)}\")"
   ]
  },
  {
   "cell_type": "code",
   "execution_count": 17,
   "metadata": {},
   "outputs": [
    {
     "name": "stdout",
     "output_type": "stream",
     "text": [
      "bytearray(b'\\x00\\x00\\x00') is of <class 'bytearray'>\n"
     ]
    }
   ],
   "source": [
    "byarr = bytearray(3)\n",
    "print(f\"{byarr} is of {type(byarr)}\")"
   ]
  },
  {
   "cell_type": "code",
   "execution_count": 18,
   "metadata": {},
   "outputs": [
    {
     "name": "stdout",
     "output_type": "stream",
     "text": [
      "<memory at 0x00000249F0352648> is of <class 'memoryview'>\n"
     ]
    }
   ],
   "source": [
    "mview = memoryview(bytes(3))\n",
    "print(f\"{mview} is of {type(mview)}\")"
   ]
  },
  {
   "cell_type": "markdown",
   "metadata": {},
   "source": [
    "### 7. Steps to create Github profile and upload Github Assignments."
   ]
  },
  {
   "cell_type": "markdown",
   "metadata": {},
   "source": [
    "- Go to https://www.github.com\n",
    "- Click on sign up and create new account.\n",
    "- After creating account, login with that account on github.\n",
    "- Click on create new repository.\n",
    "- In repository name write 'LetsUpgrade-AI-ML'.\n",
    "- Note: Kindly keep the repository public.\n",
    "- Create new folder Day 03 in local computer and move your jupyter notebook file to that folder.\n",
    "- After that upload that Day 03 folder in that 'LetsUpgrade-AI-ML' repository.\n",
    "- After uploading on github, copy the url from address bar of browser of that folder.\n",
    "- Go to : https://bit.ly/aimlassignment\n",
    "- Fill the form and in url paste that copied url."
   ]
  },
  {
   "cell_type": "code",
   "execution_count": null,
   "metadata": {},
   "outputs": [],
   "source": []
  }
 ],
 "metadata": {
  "kernelspec": {
   "display_name": "Python 3",
   "language": "python",
   "name": "python3"
  },
  "language_info": {
   "codemirror_mode": {
    "name": "ipython",
    "version": 3
   },
   "file_extension": ".py",
   "mimetype": "text/x-python",
   "name": "python",
   "nbconvert_exporter": "python",
   "pygments_lexer": "ipython3",
   "version": "3.7.6"
  }
 },
 "nbformat": 4,
 "nbformat_minor": 4
}
